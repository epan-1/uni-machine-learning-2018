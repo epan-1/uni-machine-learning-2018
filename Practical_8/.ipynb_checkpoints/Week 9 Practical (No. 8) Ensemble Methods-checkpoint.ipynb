{
 "cells": [
  {
   "cell_type": "code",
   "execution_count": 10,
   "metadata": {},
   "outputs": [],
   "source": [
    "# Q1.\n",
    "\n",
    "import numpy as np\n",
    "from sklearn.model_selection import cross_val_score\n",
    "\n",
    "# Read in the abalone dataset and convert it to a 3 class problem\n",
    "def convert_class_thrice(raw):\n",
    "    if int(raw) <= 8:\n",
    "        return 0\n",
    "    elif 9 <= int(raw) <= 10:\n",
    "        return 1\n",
    "    else:\n",
    "        return 2\n",
    "\n",
    "f = open('abalone.csv', 'r') \n",
    "X = []\n",
    "y = []\n",
    "\n",
    "for line in f:\n",
    "    atts = line[:-1].split(\",\")\n",
    "    X.append(atts[1:-1])\n",
    "    y.append(convert_class_thrice(atts[-1]))\n",
    "    \n",
    "# Convert to numpy array\n",
    "X = np.array(X).astype(np.float)\n"
   ]
  },
  {
   "cell_type": "code",
   "execution_count": 11,
   "metadata": {},
   "outputs": [
    {
     "name": "stdout",
     "output_type": "stream",
     "text": [
      "Score = 0.6423328312498958\n"
     ]
    }
   ],
   "source": [
    "# Using a simple voting model\n",
    "from sklearn.ensemble import VotingClassifier\n",
    "from sklearn.linear_model import LogisticRegression\n",
    "from sklearn.neighbors import KNeighborsClassifier\n",
    "from sklearn.naive_bayes import GaussianNB\n",
    "from sklearn.tree import DecisionTreeClassifier\n",
    "from sklearn.svm import LinearSVC\n",
    "from sklearn.model_selection import cross_val_score\n",
    "\n",
    "clf1 = LogisticRegression()\n",
    "clf2 = KNeighborsClassifier()\n",
    "clf3 = LinearSVC()\n",
    "\n",
    "voter = VotingClassifier(estimators=[('lr', clf1), ('knn', clf2), ('lsvc', clf3)], voting='hard')\n",
    "print(\"Score = \" + str(np.average(cross_val_score(voter, X, y, cv=10))))\n",
    "\n",
    "# The above combo of classifiers will produce more than 64% accuracy for a 3-class conversion of the \n",
    "# abalone dataset"
   ]
  },
  {
   "cell_type": "code",
   "execution_count": 12,
   "metadata": {},
   "outputs": [],
   "source": [
    "# For the 29-Class Abalone problem\n",
    "f = open('abalone.csv', 'r') \n",
    "X = []\n",
    "y = []\n",
    "\n",
    "for line in f:\n",
    "    atts = line[:-1].split(\",\")\n",
    "    X.append(atts[1:-1])\n",
    "    y.append(int(atts[-1]))\n",
    "    \n",
    "# Convert to numpy array\n",
    "X = np.array(X).astype(np.float)"
   ]
  },
  {
   "cell_type": "code",
   "execution_count": 13,
   "metadata": {},
   "outputs": [
    {
     "name": "stderr",
     "output_type": "stream",
     "text": [
      "/home/eddy/anaconda3/lib/python3.6/site-packages/sklearn/model_selection/_split.py:605: Warning: The least populated class in y has only 1 members, which is too few. The minimum number of members in any class cannot be less than n_splits=10.\n",
      "  % (min_groups, self.n_splits)), Warning)\n"
     ]
    },
    {
     "name": "stdout",
     "output_type": "stream",
     "text": [
      "Score = 0.25097227715196807\n"
     ]
    }
   ],
   "source": [
    "clf1 = LogisticRegression()\n",
    "clf2 = DecisionTreeClassifier()\n",
    "clf3 = LinearSVC()\n",
    "\n",
    "voter = VotingClassifier(estimators=[('lr', clf1), ('knn', clf2), ('lsvc', clf3)], voting='hard')\n",
    "print(\"Score = \" + str(np.average(cross_val_score(voter, X, y, cv=10))))"
   ]
  },
  {
   "cell_type": "code",
   "execution_count": null,
   "metadata": {},
   "outputs": [],
   "source": []
  }
 ],
 "metadata": {
  "kernelspec": {
   "display_name": "Python 3",
   "language": "python",
   "name": "python3"
  },
  "language_info": {
   "codemirror_mode": {
    "name": "ipython",
    "version": 3
   },
   "file_extension": ".py",
   "mimetype": "text/x-python",
   "name": "python",
   "nbconvert_exporter": "python",
   "pygments_lexer": "ipython3",
   "version": "3.6.4"
  }
 },
 "nbformat": 4,
 "nbformat_minor": 2
}
