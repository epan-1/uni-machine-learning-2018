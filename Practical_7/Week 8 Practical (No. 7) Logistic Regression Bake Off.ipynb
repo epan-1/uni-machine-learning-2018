{
 "cells": [
  {
   "cell_type": "code",
   "execution_count": 1,
   "metadata": {},
   "outputs": [],
   "source": [
    "# Get access to the iris dataset\n",
    "\n",
    "import numpy as np\n",
    "from sklearn import datasets\n",
    "iris = datasets.load_iris()\n",
    "\n",
    "# Get the X and y\n",
    "X = iris.data\n",
    "y = iris.target"
   ]
  },
  {
   "cell_type": "code",
   "execution_count": 19,
   "metadata": {},
   "outputs": [
    {
     "name": "stdout",
     "output_type": "stream",
     "text": [
      "0-R Score = 0.6535799111906648\n",
      "MultinomialNB Score = 0.6535799111906648\n",
      "GaussianNB Score = 0.6767787683728615\n",
      "LinearSVC Score = 0.7744707583215724\n",
      "SVC Score = 0.7524462726469542\n",
      "Logistic Regression Score = 0.7648967907014101\n"
     ]
    }
   ],
   "source": [
    "# Q1. Zero-R is the baseline while returning the best accuracy from a 10 Fold cross validation\n",
    "\n",
    "# Import everything needed\n",
    "from sklearn.model_selection import cross_val_score\n",
    "from sklearn.dummy import DummyClassifier\n",
    "from sklearn.naive_bayes import MultinomialNB, GaussianNB\n",
    "from sklearn.svm import LinearSVC, SVC\n",
    "from sklearn.linear_model import LogisticRegression\n",
    "\n",
    "def ave_cross_val_score(classifier, x, y, n):\n",
    "    sum = 0\n",
    "    scores = cross_val_score(classifier, x, y, cv=n)\n",
    "    for i in range(n):\n",
    "        sum += scores[i]\n",
    "    return sum/n\n",
    "\n",
    "def run_bake_off(X, y, n_folds):\n",
    "    # Baseline\n",
    "    zero_r = DummyClassifier(strategy='most_frequent')\n",
    "    print(\"0-R Score = \" + str(ave_cross_val_score(zero_r, X, y, n_folds)))\n",
    "\n",
    "    # Q1i).\n",
    "    mnb = MultinomialNB()\n",
    "    print(\"MultinomialNB Score = \" + str(ave_cross_val_score(mnb, X, y, n_folds)))\n",
    "\n",
    "    # Q1ii).\n",
    "    gnb = GaussianNB()\n",
    "    print(\"GaussianNB Score = \" + str(ave_cross_val_score(gnb, X, y, n_folds)))\n",
    "\n",
    "    # Q1iii).\n",
    "    lin_svc = LinearSVC()\n",
    "    print(\"LinearSVC Score = \" + str(ave_cross_val_score(lin_svc, X, y, n_folds)))\n",
    "\n",
    "    # Q1iv).\n",
    "    svc = SVC()\n",
    "    print(\"SVC Score = \" + str(ave_cross_val_score(svc, X, y, n_folds)))\n",
    "\n",
    "    # Q1v).\n",
    "    lgr = LogisticRegression()\n",
    "    print(\"Logistic Regression Score = \" + str(ave_cross_val_score(lgr, X, y, n_folds)))\n",
    "    \n",
    "    return\n",
    "\n",
    "run_bake_off(X, y, 10)\n"
   ]
  },
  {
   "cell_type": "markdown",
   "metadata": {},
   "source": [
    "Q1. The SVC classifier has the best accuracy in its default configuration."
   ]
  },
  {
   "cell_type": "code",
   "execution_count": 26,
   "metadata": {},
   "outputs": [],
   "source": [
    "def convert_class(raw):\n",
    "    if int(raw)<=10: \n",
    "        return 0\n",
    "    else: \n",
    "        return 1\n",
    "\n",
    "# Open up the Abalone dataset\n",
    "\n",
    "f = open('abalone.csv', 'r')\n",
    "X = []\n",
    "y = []\n",
    "\n",
    "for line in f:\n",
    "    atts = line[:-1].split(\",\")\n",
    "    X.append(atts[1:-1])\n",
    "    y.append(convert_class(atts[-1]))\n",
    "\n",
    "f.close()\n",
    "\n",
    "# Convert to numpy array\n",
    "X = np.array(X).astype(np.float)"
   ]
  },
  {
   "cell_type": "code",
   "execution_count": 27,
   "metadata": {},
   "outputs": [
    {
     "name": "stdout",
     "output_type": "stream",
     "text": [
      "0-R Score = 0.6535799111906648\n",
      "MultinomialNB Score = 0.6535799111906648\n",
      "GaussianNB Score = 0.6767787683728615\n",
      "LinearSVC Score = 0.7744707583215724\n",
      "SVC Score = 0.7524462726469542\n",
      "Logistic Regression Score = 0.7648967907014101\n"
     ]
    }
   ],
   "source": [
    "# Q2a).\n",
    "\n",
    "run_bake_off(X, y, 10)\n",
    "\n",
    "# Now the linear SVC wins the bakeoff slightly beating logisitic regression. This might be because it has been\n",
    "# setup as a 2-class problem and thus a linear SVM would perform nice on these"
   ]
  },
  {
   "cell_type": "code",
   "execution_count": 31,
   "metadata": {},
   "outputs": [
    {
     "name": "stdout",
     "output_type": "stream",
     "text": [
      "0-R Score = 0.3464207504591879\n",
      "MultinomialNB Score = 0.5570936039372009\n",
      "GaussianNB Score = 0.5772604926947189\n",
      "LinearSVC Score = 0.644483665671723\n",
      "SVC Score = 0.6236740758927042\n",
      "Logistic Regression Score = 0.6320370619049335\n"
     ]
    }
   ],
   "source": [
    "# Q2b). \n",
    "\n",
    "def convert_class_thrice(raw):\n",
    "    if int(raw) <= 8:\n",
    "        return 0\n",
    "    elif 9 <= int(raw) <= 10:\n",
    "        return 1\n",
    "    else:\n",
    "        return 2\n",
    "\n",
    "f = open('abalone.csv', 'r') \n",
    "X = []\n",
    "y = []\n",
    "\n",
    "for line in f:\n",
    "    atts = line[:-1].split(\",\")\n",
    "    X.append(atts[1:-1])\n",
    "    y.append(convert_class_thrice(atts[-1]))\n",
    "    \n",
    "# Convert to numpy array\n",
    "X = np.array(X).astype(np.float)\n",
    "\n",
    "run_bake_off(X, y, 10)\n",
    "\n",
    "# Linear SVC still wins. Dunno why."
   ]
  },
  {
   "cell_type": "code",
   "execution_count": 35,
   "metadata": {},
   "outputs": [
    {
     "name": "stderr",
     "output_type": "stream",
     "text": [
      "/home/eddy/anaconda3/lib/python3.6/site-packages/sklearn/model_selection/_split.py:605: Warning: The least populated class in y has only 1 members, which is too few. The minimum number of members in any class cannot be less than n_splits=10.\n",
      "  % (min_groups, self.n_splits)), Warning)\n",
      "/home/eddy/anaconda3/lib/python3.6/site-packages/sklearn/model_selection/_split.py:605: Warning: The least populated class in y has only 1 members, which is too few. The minimum number of members in any class cannot be less than n_splits=10.\n",
      "  % (min_groups, self.n_splits)), Warning)\n",
      "/home/eddy/anaconda3/lib/python3.6/site-packages/sklearn/model_selection/_split.py:605: Warning: The least populated class in y has only 1 members, which is too few. The minimum number of members in any class cannot be less than n_splits=10.\n",
      "  % (min_groups, self.n_splits)), Warning)\n",
      "/home/eddy/anaconda3/lib/python3.6/site-packages/sklearn/model_selection/_split.py:605: Warning: The least populated class in y has only 1 members, which is too few. The minimum number of members in any class cannot be less than n_splits=10.\n",
      "  % (min_groups, self.n_splits)), Warning)\n"
     ]
    },
    {
     "name": "stdout",
     "output_type": "stream",
     "text": [
      "0-R Score = 0.16500855703117906\n",
      "MultinomialNB Score = 0.16525547061142595\n",
      "GaussianNB Score = 0.23591700319832828\n",
      "LinearSVC Score = 0.2583687378399511\n"
     ]
    },
    {
     "name": "stderr",
     "output_type": "stream",
     "text": [
      "/home/eddy/anaconda3/lib/python3.6/site-packages/sklearn/model_selection/_split.py:605: Warning: The least populated class in y has only 1 members, which is too few. The minimum number of members in any class cannot be less than n_splits=10.\n",
      "  % (min_groups, self.n_splits)), Warning)\n"
     ]
    },
    {
     "name": "stdout",
     "output_type": "stream",
     "text": [
      "SVC Score = 0.24785709729228578\n"
     ]
    },
    {
     "name": "stderr",
     "output_type": "stream",
     "text": [
      "/home/eddy/anaconda3/lib/python3.6/site-packages/sklearn/model_selection/_split.py:605: Warning: The least populated class in y has only 1 members, which is too few. The minimum number of members in any class cannot be less than n_splits=10.\n",
      "  % (min_groups, self.n_splits)), Warning)\n"
     ]
    },
    {
     "name": "stdout",
     "output_type": "stream",
     "text": [
      "Logistic Regression Score = 0.24687601563564093\n"
     ]
    }
   ],
   "source": [
    "# Q2c.\n",
    "\n",
    "f = open('abalone.csv', 'r') \n",
    "X = []\n",
    "y = []\n",
    "\n",
    "for line in f:\n",
    "    atts = line[:-1].split(\",\")\n",
    "    X.append(atts[1:-1])\n",
    "    y.append(int(atts[-1]))\n",
    "    \n",
    "# Convert to numpy array\n",
    "X = np.array(X).astype(np.float)\n",
    "\n",
    "run_bake_off(X, y, 10)\n",
    "\n",
    "# Linear SVC is still winning for some reason."
   ]
  },
  {
   "cell_type": "code",
   "execution_count": 39,
   "metadata": {},
   "outputs": [
    {
     "name": "stderr",
     "output_type": "stream",
     "text": [
      "/home/eddy/anaconda3/lib/python3.6/site-packages/sklearn/model_selection/_split.py:605: Warning: The least populated class in y has only 1 members, which is too few. The minimum number of members in any class cannot be less than n_splits=10.\n",
      "  % (min_groups, self.n_splits)), Warning)\n",
      "/home/eddy/anaconda3/lib/python3.6/site-packages/sklearn/model_selection/_split.py:605: Warning: The least populated class in y has only 1 members, which is too few. The minimum number of members in any class cannot be less than n_splits=10.\n",
      "  % (min_groups, self.n_splits)), Warning)\n",
      "/home/eddy/anaconda3/lib/python3.6/site-packages/sklearn/model_selection/_split.py:605: Warning: The least populated class in y has only 1 members, which is too few. The minimum number of members in any class cannot be less than n_splits=10.\n",
      "  % (min_groups, self.n_splits)), Warning)\n",
      "/home/eddy/anaconda3/lib/python3.6/site-packages/sklearn/model_selection/_split.py:605: Warning: The least populated class in y has only 1 members, which is too few. The minimum number of members in any class cannot be less than n_splits=10.\n",
      "  % (min_groups, self.n_splits)), Warning)\n"
     ]
    },
    {
     "name": "stdout",
     "output_type": "stream",
     "text": [
      "0-R Score = 0.16500855703117906\n",
      "MultinomialNB Score = 0.22008672943989835\n",
      "GaussianNB Score = 0.09995373301345349\n",
      "LinearSVC Score = 0.24991067442390813\n"
     ]
    },
    {
     "name": "stderr",
     "output_type": "stream",
     "text": [
      "/home/eddy/anaconda3/lib/python3.6/site-packages/sklearn/model_selection/_split.py:605: Warning: The least populated class in y has only 1 members, which is too few. The minimum number of members in any class cannot be less than n_splits=10.\n",
      "  % (min_groups, self.n_splits)), Warning)\n"
     ]
    },
    {
     "name": "stdout",
     "output_type": "stream",
     "text": [
      "SVC Score = 0.2348866302578127\n"
     ]
    },
    {
     "name": "stderr",
     "output_type": "stream",
     "text": [
      "/home/eddy/anaconda3/lib/python3.6/site-packages/sklearn/model_selection/_split.py:605: Warning: The least populated class in y has only 1 members, which is too few. The minimum number of members in any class cannot be less than n_splits=10.\n",
      "  % (min_groups, self.n_splits)), Warning)\n"
     ]
    },
    {
     "name": "stdout",
     "output_type": "stream",
     "text": [
      "Logistic Regression Score = 0.24658107691038467\n"
     ]
    }
   ],
   "source": [
    "# Q2d.)\n",
    "\n",
    "from sklearn.preprocessing import OneHotEncoder\n",
    "\n",
    "f = open('abalone.csv', 'r') \n",
    "X = []\n",
    "y = []\n",
    "\n",
    "def convert_gender(raw):\n",
    "    if raw==\"M\": \n",
    "        return 0\n",
    "    elif raw==\"I\": \n",
    "        return 1\n",
    "    elif raw==\"F\": \n",
    "        return 2\n",
    "    else: \n",
    "        return 3\n",
    "    \n",
    "for line in f:\n",
    "    atts = line[:-1].split(\",\")\n",
    "    atts[0]=convert_gender(atts[0])\n",
    "    X.append(atts[0:-1])\n",
    "    y.append(int(atts[-1]))\n",
    "\n",
    "ohe = OneHotEncoder(categorical_features=[0])\n",
    "X = ohe.fit_transform(X).toarray()\n",
    "\n",
    "run_bake_off(X, y, 10)\n",
    "\n",
    "# Logistic regression, LinearSVC and SVC are pretty resilient to the addition of these 3 attributes. I \n",
    "# don't really know why that would be."
   ]
  },
  {
   "cell_type": "code",
   "execution_count": null,
   "metadata": {},
   "outputs": [],
   "source": [
    "# Q3).\n"
   ]
  }
 ],
 "metadata": {
  "kernelspec": {
   "display_name": "Python 3",
   "language": "python",
   "name": "python3"
  },
  "language_info": {
   "codemirror_mode": {
    "name": "ipython",
    "version": 3
   },
   "file_extension": ".py",
   "mimetype": "text/x-python",
   "name": "python",
   "nbconvert_exporter": "python",
   "pygments_lexer": "ipython3",
   "version": "3.6.4"
  }
 },
 "nbformat": 4,
 "nbformat_minor": 2
}
