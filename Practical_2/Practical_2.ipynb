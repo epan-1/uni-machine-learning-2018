{
 "cells": [
  {
   "cell_type": "markdown",
   "metadata": {},
   "source": [
    "# Visualising Data"
   ]
  },
  {
   "cell_type": "markdown",
   "metadata": {},
   "source": [
    "## Question 1"
   ]
  },
  {
   "cell_type": "markdown",
   "metadata": {},
   "source": [
    "### Part a)\n",
    "\n",
    "There exists 150 instances in the .csv file supplied. There are 3 different classes."
   ]
  },
  {
   "cell_type": "code",
   "execution_count": 21,
   "metadata": {},
   "outputs": [
    {
     "name": "stdout",
     "output_type": "stream",
     "text": [
      "150\n",
      "{'Iris-setosa': 49, 'Iris-setossa': 1, 'Iris-versicolor': 45, 'versicolor': 5, 'Iris-virginica': 50}\n"
     ]
    }
   ],
   "source": [
    "#Part b) Python script to count the instances and keep track of how many instances of each class exists\n",
    "\n",
    "with open('iris-data-nix.csv', 'r') as iris_dataset:\n",
    "    read_data = iris_dataset.readlines()[1:]\n",
    "    num_instances = 0\n",
    "    class_dict = {}\n",
    "    for line in read_data:\n",
    "        num_instances = num_instances + 1\n",
    "        single_line = line.split(',')\n",
    "        curr_class = single_line[len(single_line)-1][:-1]\n",
    "        if curr_class in class_dict:\n",
    "            class_dict[curr_class] = class_dict[curr_class] + 1\n",
    "        else:\n",
    "            class_dict[curr_class] = 1\n",
    "    \n",
    "iris_dataset.close()\n",
    "\n",
    "print(num_instances)\n",
    "print(class_dict)"
   ]
  },
  {
   "cell_type": "code",
   "execution_count": null,
   "metadata": {},
   "outputs": [],
   "source": []
  }
 ],
 "metadata": {
  "kernelspec": {
   "display_name": "Python 3",
   "language": "python",
   "name": "python3"
  },
  "language_info": {
   "codemirror_mode": {
    "name": "ipython",
    "version": 3
   },
   "file_extension": ".py",
   "mimetype": "text/x-python",
   "name": "python",
   "nbconvert_exporter": "python",
   "pygments_lexer": "ipython3",
   "version": "3.6.4"
  }
 },
 "nbformat": 4,
 "nbformat_minor": 2
}
