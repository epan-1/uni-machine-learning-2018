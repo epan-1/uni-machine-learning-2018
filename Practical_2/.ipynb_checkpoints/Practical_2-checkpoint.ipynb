{
 "cells": [
  {
   "cell_type": "markdown",
   "metadata": {},
   "source": [
    "# Visualising Data"
   ]
  },
  {
   "cell_type": "markdown",
   "metadata": {},
   "source": [
    "## Question 1"
   ]
  },
  {
   "cell_type": "markdown",
   "metadata": {},
   "source": [
    "### Part a)\n",
    "\n",
    "There exists 150 instances in the .csv file supplied. There are 3 different classes."
   ]
  },
  {
   "cell_type": "code",
   "execution_count": 22,
   "metadata": {},
   "outputs": [
    {
     "name": "stdout",
     "output_type": "stream",
     "text": [
      "150\n",
      "{'Iris-setosa': 49, 'Iris-setossa': 1, 'Iris-versicolor': 50, 'Iris-virginica': 50}\n"
     ]
    }
   ],
   "source": [
    "#Part b) Python script to count the instances and keep track of how many instances of each class exists\n",
    "\n",
    "with open('iris-data-nix.csv', 'r') as iris_dataset:\n",
    "    read_data = iris_dataset.readlines()[1:]\n",
    "    num_instances = 0\n",
    "    class_dict = {}\n",
    "    for line in read_data:\n",
    "        num_instances = num_instances + 1\n",
    "        single_line = line.split(',')\n",
    "        curr_class = single_line[len(single_line)-1][:-1]\n",
    "        if curr_class in class_dict:\n",
    "            class_dict[curr_class] = class_dict[curr_class] + 1\n",
    "        else:\n",
    "            class_dict[curr_class] = 1\n",
    "    \n",
    "iris_dataset.close()\n",
    "\n",
    "print(num_instances)\n",
    "print(class_dict)"
   ]
  },
  {
   "cell_type": "markdown",
   "metadata": {},
   "source": [
    "## Question 2"
   ]
  },
  {
   "cell_type": "code",
   "execution_count": 23,
   "metadata": {},
   "outputs": [
    {
     "name": "stdout",
     "output_type": "stream",
     "text": [
      "False\n"
     ]
    }
   ],
   "source": [
    "#Part a)\n",
    "\n",
    "def check_csv(filename):\n",
    "    with open(filename, 'r') as f:\n",
    "        same_attribute_num = True\n",
    "        read_data = f.readlines()[1:]\n",
    "        num_attributes = len(read_data[0])\n",
    "        for line in read_data:\n",
    "            if (len(line) != num_attributes):\n",
    "                same_attribute_num = False\n",
    "    f.closed\n",
    "    return same_attribute_num\n",
    "\n",
    "print(check_csv('iris-data-nix.csv'))"
   ]
  },
  {
   "cell_type": "code",
   "execution_count": 43,
   "metadata": {},
   "outputs": [
    {
     "data": {
      "text/plain": [
       "145"
      ]
     },
     "execution_count": 43,
     "metadata": {},
     "output_type": "execute_result"
    }
   ],
   "source": [
    "#Part b\n",
    "\n",
    "def isFloat(string):\n",
    "    try:\n",
    "        float(string)\n",
    "        return True\n",
    "    except ValueError:\n",
    "        return False\n",
    "\n",
    "def check_numeric(filename):\n",
    "    with open(filename, 'r') as f:\n",
    "        num_instances = 0\n",
    "        read_data = f.readlines()[1:]\n",
    "        for line in read_data:\n",
    "            all_numeric = True\n",
    "            for value in line.split(',')[:-1]:\n",
    "                if not value.isnumeric() and not isFloat(value):\n",
    "                    all_numeric = False\n",
    "            if all_numeric == True:\n",
    "                num_instances = num_instances + 1\n",
    "    f.closed\n",
    "    return num_instances\n",
    "\n",
    "check_numeric('iris-data-nix.csv')"
   ]
  },
  {
   "cell_type": "code",
   "execution_count": 45,
   "metadata": {},
   "outputs": [
    {
     "data": {
      "image/png": "[encoded data removed]",
      "text/plain": [
       "<matplotlib.figure.Figure at 0x7f910667e240>"
      ]
     },
     "metadata": {},
     "output_type": "display_data"
    },
    {
     "data": {
      "text/plain": [
       "'\\n\\n'"
      ]
     },
     "execution_count": 45,
     "metadata": {},
     "output_type": "execute_result"
    }
   ],
   "source": [
    "#Part c)\n",
    "\n",
    "import numpy as np\n",
    "import matplotlib.pyplot as plt\n",
    "f = open(\"iris-data-nix.csv\", 'r') # This line is platform-specific\n",
    "petal_width = []\n",
    "for line in f.readlines()[1:]:\n",
    "    pw = line.split(\",\")[3]\n",
    "    if not pw == \"NA\":\n",
    "        petal_width.append(float(pw))\n",
    "f.close()\n",
    "plt.hist(np.array(petal_width))\n",
    "plt.show()\n",
    "\n",
    "\"\"\"\n",
    "We cannot use mean imputation here as the histogram shows that the data is not normally distributed.\n",
    "As such we would expect mean imputation to skew the results and possible affecting the classification of the data\n",
    "\"\"\""
   ]
  },
  {
   "cell_type": "markdown",
   "metadata": {},
   "source": [
    "## Question 3"
   ]
  },
  {
   "cell_type": "code",
   "execution_count": 49,
   "metadata": {},
   "outputs": [
    {
     "data": {
      "image/png": "[encoded data removed]",
      "text/plain": [
       "<matplotlib.figure.Figure at 0x7f90da8cec18>"
      ]
     },
     "metadata": {},
     "output_type": "display_data"
    },
    {
     "data": {
      "image/png": "[encoded data removed]",
      "text/plain": [
       "<matplotlib.figure.Figure at 0x7f90da7ef898>"
      ]
     },
     "metadata": {},
     "output_type": "display_data"
    },
    {
     "data": {
      "image/png": "[encoded data removed]",
      "text/plain": [
       "<matplotlib.figure.Figure at 0x7f90da9306d8>"
      ]
     },
     "metadata": {},
     "output_type": "display_data"
    },
    {
     "data": {
      "image/png": "[encoded data removed]",
      "text/plain": [
       "<matplotlib.figure.Figure at 0x7f90da9609e8>"
      ]
     },
     "metadata": {},
     "output_type": "display_data"
    }
   ],
   "source": [
    "import numpy as np\n",
    "import matplotlib.pyplot as plt\n",
    "f = open(\"iris-data-nix.csv\", 'r') # This line is platform-specific\n",
    "sepal_length = []\n",
    "for line in f.readlines()[1:]:\n",
    "    sl = line.split(\",\")[0]\n",
    "    if not sl == \"NA\":\n",
    "        sepal_length.append(float(sl))\n",
    "f.close()\n",
    "plt.hist(np.array(sepal_length))\n",
    "plt.title(\"Sepal Length\")\n",
    "plt.show()\n",
    "\n",
    "f = open(\"iris-data-nix.csv\", 'r') # This line is platform-specific\n",
    "sepal_width = []\n",
    "for line in f.readlines()[1:]:\n",
    "    sw = line.split(\",\")[1]\n",
    "    if not sw == \"NA\":\n",
    "        sepal_width.append(float(sw))\n",
    "f.close()\n",
    "plt.hist(np.array(sepal_width))\n",
    "plt.title(\"Sepal Width\")\n",
    "plt.show()\n",
    "\n",
    "f = open(\"iris-data-nix.csv\", 'r') # This line is platform-specific\n",
    "petal_length = []\n",
    "for line in f.readlines()[1:]:\n",
    "    pl = line.split(\",\")[2]\n",
    "    if not pl== \"NA\":\n",
    "        petal_length.append(float(pl))\n",
    "f.close()\n",
    "plt.hist(np.array(petal_length))\n",
    "plt.title(\"Petal Length\")\n",
    "plt.show()\n",
    "\n",
    "f = open(\"iris-data-nix.csv\", 'r') # This line is platform-specific\n",
    "petal_width = []\n",
    "for line in f.readlines()[1:]:\n",
    "    pw = line.split(\",\")[3]\n",
    "    if not pw == \"NA\":\n",
    "        petal_width.append(float(pw))\n",
    "f.close()\n",
    "plt.hist(np.array(petal_width))\n",
    "plt.title(\"Petal Width\")\n",
    "plt.show()"
   ]
  },
  {
   "cell_type": "markdown",
   "metadata": {},
   "source": [
    "## Question 4"
   ]
  },
  {
   "cell_type": "code",
   "execution_count": 58,
   "metadata": {},
   "outputs": [
    {
     "data": {
      "image/png": "[encoded data removed]",
      "text/plain": [
       "<matplotlib.figure.Figure at 0x7f90da2d5b38>"
      ]
     },
     "metadata": {},
     "output_type": "display_data"
    },
    {
     "data": {
      "image/png": "[encoded data removed]",
      "text/plain": [
       "<matplotlib.figure.Figure at 0x7f90da24e710>"
      ]
     },
     "metadata": {},
     "output_type": "display_data"
    }
   ],
   "source": [
    "plt.scatter(np.array(sepal_length),np.array(sepal_width), c=\"red\")\n",
    "plt.show()\n",
    "\n",
    "plt.scatter(np.array(sepal_length),np.array(petal_length), c=\"red\")\n",
    "plt.show()"
   ]
  },
  {
   "cell_type": "markdown",
   "metadata": {},
   "source": [
    "Part c)  \n",
    "Observing the scatter plots carefully would lead you to look at clusters forming. Thus clustering machine learning methods would be better preferred here. As for Naive Bayes, since numbers that are similar tend to have the same class, we can utilise the probabilities of classes having possible ranges of values for each attribute to train a probabilistic model. And then we just use that model to make classifications on unseen data."
   ]
  },
  {
   "cell_type": "code",
   "execution_count": null,
   "metadata": {},
   "outputs": [],
   "source": []
  }
 ],
 "metadata": {
  "kernelspec": {
   "display_name": "Python 3",
   "language": "python",
   "name": "python3"
  },
  "language_info": {
   "codemirror_mode": {
    "name": "ipython",
    "version": 3
   },
   "file_extension": ".py",
   "mimetype": "text/x-python",
   "name": "python",
   "nbconvert_exporter": "python",
   "pygments_lexer": "ipython3",
   "version": "3.6.4"
  }
 },
 "nbformat": 4,
 "nbformat_minor": 2
}
